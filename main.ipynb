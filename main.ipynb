{
 "cells": [
  {
   "cell_type": "code",
   "execution_count": 1,
   "metadata": {},
   "outputs": [],
   "source": [
    "# import libraies\n",
    "import tensorflow as tf\n",
    "import numpy as np\n",
    "import matplotlib.pyplot as plt\n",
    "from keras.preprocessing import image\n",
    "from tensorflow import keras\n",
    "from tensorflow.keras.datasets import cifar10\n",
    "from tensorflow.keras.optimizers import RMSprop\n",
    "\n"
   ]
  },
  {
   "cell_type": "code",
   "execution_count": 2,
   "metadata": {},
   "outputs": [],
   "source": [
    "# loading dateset\n",
    "(train_images, train_labels), (test_images, test_labels) = cifar10.load_data()\n"
   ]
  },
  {
   "cell_type": "code",
   "execution_count": 3,
   "metadata": {},
   "outputs": [
    {
     "data": {
      "text/plain": [
       "(50000, 32, 32, 3)"
      ]
     },
     "execution_count": 3,
     "metadata": {},
     "output_type": "execute_result"
    }
   ],
   "source": [
    "# check the number of train images\n",
    "train_images.shape\n"
   ]
  },
  {
   "cell_type": "code",
   "execution_count": 4,
   "metadata": {},
   "outputs": [
    {
     "data": {
      "text/plain": [
       "(10000, 32, 32, 3)"
      ]
     },
     "execution_count": 4,
     "metadata": {},
     "output_type": "execute_result"
    }
   ],
   "source": [
    "# check the number of test images\n",
    "test_images.shape\n"
   ]
  },
  {
   "cell_type": "code",
   "execution_count": 5,
   "metadata": {},
   "outputs": [],
   "source": [
    "# constructing the model\n",
    "model = tf.keras.models.Sequential([\n",
    "        # create convolution kernel\n",
    "        tf.keras.layers.Conv2D(16, (3, 3), activation='relu',\n",
    "                            input_shape=(32, 32, 3)),\n",
    "        # create maxpooling layer\n",
    "        tf.keras.layers.MaxPooling2D(2, 2),\n",
    "        # repeating process\n",
    "        tf.keras.layers.Conv2D(32, (3, 3), activation='relu'),\n",
    "        tf.keras.layers.MaxPooling2D(2, 2),\n",
    "        tf.keras.layers.Conv2D(64, (3, 3), activation='relu'),\n",
    "        tf.keras.layers.MaxPooling2D(2, 2),\n",
    "        # flatten the tensor to 1d \n",
    "        tf.keras.layers.Flatten(),\n",
    "        # the second layer\n",
    "        tf.keras.layers.Dense(128, activation='relu'),\n",
    "        # the final layer, since we have multiple classes, we use softmax instead of simoid\n",
    "        tf.keras.layers.Dense(10, activation='softmax')\n",
    "])\n"
   ]
  },
  {
   "cell_type": "code",
   "execution_count": 6,
   "metadata": {},
   "outputs": [
    {
     "name": "stdout",
     "output_type": "stream",
     "text": [
      "Model: \"sequential\"\n",
      "_________________________________________________________________\n",
      " Layer (type)                Output Shape              Param #   \n",
      "=================================================================\n",
      " conv2d (Conv2D)             (None, 30, 30, 16)        448       \n",
      "                                                                 \n",
      " max_pooling2d (MaxPooling2D  (None, 15, 15, 16)       0         \n",
      " )                                                               \n",
      "                                                                 \n",
      " conv2d_1 (Conv2D)           (None, 13, 13, 32)        4640      \n",
      "                                                                 \n",
      " max_pooling2d_1 (MaxPooling  (None, 6, 6, 32)         0         \n",
      " 2D)                                                             \n",
      "                                                                 \n",
      " conv2d_2 (Conv2D)           (None, 4, 4, 64)          18496     \n",
      "                                                                 \n",
      " max_pooling2d_2 (MaxPooling  (None, 2, 2, 64)         0         \n",
      " 2D)                                                             \n",
      "                                                                 \n",
      " flatten (Flatten)           (None, 256)               0         \n",
      "                                                                 \n",
      " dense (Dense)               (None, 128)               32896     \n",
      "                                                                 \n",
      " dense_1 (Dense)             (None, 10)                1290      \n",
      "                                                                 \n",
      "=================================================================\n",
      "Total params: 57,770\n",
      "Trainable params: 57,770\n",
      "Non-trainable params: 0\n",
      "_________________________________________________________________\n"
     ]
    }
   ],
   "source": [
    "# check if the model is constructed correctly\n",
    "model.summary()\n"
   ]
  },
  {
   "cell_type": "code",
   "execution_count": 7,
   "metadata": {},
   "outputs": [],
   "source": [
    "# compiling the model\n",
    "model.compile(loss=tf.losses.sparse_categorical_crossentropy,\n",
    "              optimizer=RMSprop(learning_rate=0.001), metrics=['acc'])\n"
   ]
  },
  {
   "cell_type": "code",
   "execution_count": 8,
   "metadata": {},
   "outputs": [
    {
     "name": "stdout",
     "output_type": "stream",
     "text": [
      "Epoch 1/10\n",
      "1563/1563 [==============================] - 32s 20ms/step - loss: 1.5928 - acc: 0.4229 - val_loss: 1.3584 - val_acc: 0.5007\n",
      "Epoch 2/10\n",
      "1563/1563 [==============================] - 29s 19ms/step - loss: 1.2251 - acc: 0.5648 - val_loss: 1.1654 - val_acc: 0.5834\n",
      "Epoch 3/10\n",
      "1563/1563 [==============================] - 30s 19ms/step - loss: 1.0689 - acc: 0.6254 - val_loss: 1.0311 - val_acc: 0.6376\n",
      "Epoch 4/10\n",
      "1563/1563 [==============================] - 30s 19ms/step - loss: 0.9696 - acc: 0.6604 - val_loss: 1.0239 - val_acc: 0.6486\n",
      "Epoch 5/10\n",
      "1563/1563 [==============================] - 30s 19ms/step - loss: 0.9004 - acc: 0.6879 - val_loss: 1.1655 - val_acc: 0.6093\n",
      "Epoch 6/10\n",
      "1563/1563 [==============================] - 29s 19ms/step - loss: 0.8437 - acc: 0.7054 - val_loss: 1.1091 - val_acc: 0.6290\n",
      "Epoch 7/10\n",
      "1563/1563 [==============================] - 30s 19ms/step - loss: 0.7988 - acc: 0.7217 - val_loss: 0.9670 - val_acc: 0.6648\n",
      "Epoch 8/10\n",
      "1563/1563 [==============================] - 29s 19ms/step - loss: 0.7628 - acc: 0.7357 - val_loss: 1.0282 - val_acc: 0.6468\n",
      "Epoch 9/10\n",
      "1563/1563 [==============================] - 30s 19ms/step - loss: 0.7323 - acc: 0.7462 - val_loss: 1.1287 - val_acc: 0.6548\n",
      "Epoch 10/10\n",
      "1563/1563 [==============================] - 30s 20ms/step - loss: 0.7065 - acc: 0.7565 - val_loss: 1.0947 - val_acc: 0.6630\n"
     ]
    }
   ],
   "source": [
    "# start training\n",
    "history = model.fit(\n",
    "          # normalizing the images by /255\n",
    "          train_images/255,\n",
    "          train_labels,\n",
    "          epochs=10,\n",
    "          validation_data=(test_images/255, test_labels)\n",
    ")\n"
   ]
  },
  {
   "cell_type": "code",
   "execution_count": 9,
   "metadata": {},
   "outputs": [
    {
     "name": "stdout",
     "output_type": "stream",
     "text": [
      "It's a ship.\n"
     ]
    }
   ],
   "source": [
    "# start classifying\n",
    "\n",
    "# the different classes\n",
    "name = [\"airplane\", \"automobile\", \"bird\", \"cat\",\n",
    "        \"deer\", \"dog\", \"frog\", \"horse\", \"ship\", \"truck\"]\n",
    "# getting the image path the user wants to classify\n",
    "file_path = input(\"Enter the path for the image you want to classify:\")\n",
    "img = image.load_img(file_path, target_size=(32, 32))\n",
    "x = image.img_to_array(img)\n",
    "x = np.expand_dims(x, axis=0)\n",
    "images = np.vstack([x])\n",
    "classes = model.predict(images, batch_size=20)\n",
    "# print the result\n",
    "print(\"It's a \"+name[np.argmax(classes[0])]+\".\")\n"
   ]
  },
  {
   "cell_type": "code",
   "execution_count": 15,
   "metadata": {},
   "outputs": [
    {
     "data": {
      "text/plain": [
       "Text(0.5, 1.0, 'Training and validation loss')"
      ]
     },
     "execution_count": 15,
     "metadata": {},
     "output_type": "execute_result"
    },
    {
     "data": {
      "image/png": "[encoded data removed]",
      "text/plain": [
       "<Figure size 432x288 with 1 Axes>"
      ]
     },
     "metadata": {
      "needs_background": "light"
     },
     "output_type": "display_data"
    },
    {
     "data": {
      "image/png": "[encoded data removed]",
      "text/plain": [
       "<Figure size 432x288 with 1 Axes>"
      ]
     },
     "metadata": {
      "needs_background": "light"
     },
     "output_type": "display_data"
    }
   ],
   "source": [
    "# drawing the graph\n",
    "\n",
    "# getting the accuacy value\n",
    "acc = history.history['acc']\n",
    "val_acc = history.history['val_acc']\n",
    "# getting the loss value\n",
    "loss = history.history['loss']\n",
    "val_loss = history.history['val_loss']\n",
    "\n",
    "epochs = range(len(acc))\n",
    "# plotting the graph\n",
    "plt.plot(epochs, acc, label='training accuracy')\n",
    "plt.plot(epochs, val_acc, label='validation accuracy')\n",
    "plt.legend()\n",
    "plt.title('Training and validation accuracy')\n",
    "\n",
    "plt.figure()\n",
    "\n",
    "plt.plot(epochs, loss, label='training loss')\n",
    "plt.plot(epochs, val_loss, label='validation loss')\n",
    "plt.legend()\n",
    "plt.title('Training and validation loss')\n"
   ]
  }
 ],
 "metadata": {
  "interpreter": {
   "hash": "5c0caea51777488cab3b1d6f4dd172e8f4fc74c408c7207234a266ceb8771740"
  },
  "kernelspec": {
   "display_name": "Python 3.9.9 64-bit",
   "language": "python",
   "name": "python3"
  },
  "language_info": {
   "codemirror_mode": {
    "name": "ipython",
    "version": 3
   },
   "file_extension": ".py",
   "mimetype": "text/x-python",
   "name": "python",
   "nbconvert_exporter": "python",
   "pygments_lexer": "ipython3",
   "version": "3.9.9"
  },
  "orig_nbformat": 4
 },
 "nbformat": 4,
 "nbformat_minor": 2
}
