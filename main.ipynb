{
 "cells": [
  {
   "cell_type": "code",
   "execution_count": 1,
   "metadata": {},
   "outputs": [],
   "source": [
    "# import libraies\n",
    "import tensorflow as tf\n",
    "import numpy as np\n",
    "import matplotlib.pyplot as plt\n",
    "from keras.preprocessing import image\n",
    "from tensorflow import keras\n",
    "from tensorflow.keras.datasets import cifar10\n",
    "from tensorflow.keras.optimizers import RMSprop\n"
   ]
  },
  {
   "cell_type": "code",
   "execution_count": 2,
   "metadata": {},
   "outputs": [],
   "source": [
    "# loading dateset\n",
    "(train_images, train_labels), (test_images, test_labels) = cifar10.load_data()\n"
   ]
  },
  {
   "cell_type": "code",
   "execution_count": 19,
   "metadata": {},
   "outputs": [],
   "source": [
    "def check_size():\n",
    "    # check the number of train images\n",
    "    train_images.shape\n",
    "    # check the number of test images\n",
    "    test_images.shape\n"
   ]
  },
  {
   "cell_type": "code",
   "execution_count": 17,
   "metadata": {},
   "outputs": [
    {
     "name": "stdout",
     "output_type": "stream",
     "text": [
      "Model: \"sequential_4\"\n",
      "_________________________________________________________________\n",
      " Layer (type)                Output Shape              Param #   \n",
      "=================================================================\n",
      " conv2d_12 (Conv2D)          (None, 30, 30, 16)        448       \n",
      "                                                                 \n",
      " max_pooling2d_12 (MaxPoolin  (None, 15, 15, 16)       0         \n",
      " g2D)                                                            \n",
      "                                                                 \n",
      " conv2d_13 (Conv2D)          (None, 13, 13, 32)        4640      \n",
      "                                                                 \n",
      " max_pooling2d_13 (MaxPoolin  (None, 6, 6, 32)         0         \n",
      " g2D)                                                            \n",
      "                                                                 \n",
      " conv2d_14 (Conv2D)          (None, 4, 4, 64)          18496     \n",
      "                                                                 \n",
      " max_pooling2d_14 (MaxPoolin  (None, 2, 2, 64)         0         \n",
      " g2D)                                                            \n",
      "                                                                 \n",
      " flatten_4 (Flatten)         (None, 256)               0         \n",
      "                                                                 \n",
      " dense_8 (Dense)             (None, 128)               32896     \n",
      "                                                                 \n",
      " dense_9 (Dense)             (None, 10)                1290      \n",
      "                                                                 \n",
      "=================================================================\n",
      "Total params: 57,770\n",
      "Trainable params: 57,770\n",
      "Non-trainable params: 0\n",
      "_________________________________________________________________\n"
     ]
    }
   ],
   "source": [
    "# constructing the model\n",
    "model = tf.keras.models.Sequential([\n",
    "    # create convolution kernel\n",
    "    tf.keras.layers.Conv2D(16, (3, 3), activation='relu',\n",
    "                           input_shape=(32, 32, 3)),\n",
    "    # create maxpooling layer\n",
    "    tf.keras.layers.MaxPooling2D(2, 2),\n",
    "    # repeating process\n",
    "    tf.keras.layers.Conv2D(32, (3, 3), activation='relu'),\n",
    "    tf.keras.layers.MaxPooling2D(2, 2),\n",
    "    tf.keras.layers.Conv2D(64, (3, 3), activation='relu'),\n",
    "    tf.keras.layers.MaxPooling2D(2, 2),\n",
    "    # flatten the tensor to 1d\n",
    "    tf.keras.layers.Flatten(),\n",
    "    # the second layer\n",
    "    tf.keras.layers.Dense(128, activation='relu'),\n",
    "    # the final layer, since we have multiple classes, we use softmax instead of simoid\n",
    "    tf.keras.layers.Dense(10, activation='softmax')\n",
    "])\n",
    "# check if the model is constructed correctly\n",
    "model.summary()\n",
    "# compiling the model\n",
    "model.compile(loss=tf.losses.sparse_categorical_crossentropy,\n",
    "              optimizer='Adam', metrics=['acc'])\n"
   ]
  },
  {
   "cell_type": "code",
   "execution_count": 18,
   "metadata": {},
   "outputs": [
    {
     "name": "stdout",
     "output_type": "stream",
     "text": [
      "Epoch 1/10\n",
      "1563/1563 [==============================] - 19s 12ms/step - loss: 1.5477 - acc: 0.4316 - val_loss: 1.2697 - val_acc: 0.5463\n",
      "Epoch 2/10\n",
      "1563/1563 [==============================] - 19s 12ms/step - loss: 1.1959 - acc: 0.5732 - val_loss: 1.1552 - val_acc: 0.5966\n",
      "Epoch 3/10\n",
      "1563/1563 [==============================] - 19s 12ms/step - loss: 1.0566 - acc: 0.6289 - val_loss: 1.0270 - val_acc: 0.6388\n",
      "Epoch 4/10\n",
      "1563/1563 [==============================] - 19s 12ms/step - loss: 0.9618 - acc: 0.6623 - val_loss: 0.9926 - val_acc: 0.6550\n",
      "Epoch 5/10\n",
      "1563/1563 [==============================] - 19s 12ms/step - loss: 0.8950 - acc: 0.6852 - val_loss: 0.9413 - val_acc: 0.6773\n",
      "Epoch 6/10\n",
      "1563/1563 [==============================] - 18s 12ms/step - loss: 0.8433 - acc: 0.7018 - val_loss: 0.9296 - val_acc: 0.6763\n",
      "Epoch 7/10\n",
      "1563/1563 [==============================] - 19s 12ms/step - loss: 0.7941 - acc: 0.7205 - val_loss: 0.9205 - val_acc: 0.6870\n",
      "Epoch 8/10\n",
      "1563/1563 [==============================] - 19s 12ms/step - loss: 0.7537 - acc: 0.7346 - val_loss: 0.9014 - val_acc: 0.6920\n",
      "Epoch 9/10\n",
      "1563/1563 [==============================] - 19s 12ms/step - loss: 0.7166 - acc: 0.7474 - val_loss: 0.8774 - val_acc: 0.7036\n",
      "Epoch 10/10\n",
      "1563/1563 [==============================] - 19s 12ms/step - loss: 0.6832 - acc: 0.7597 - val_loss: 0.8906 - val_acc: 0.7001\n"
     ]
    }
   ],
   "source": [
    "# start training\n",
    "history = model.fit(\n",
    "    # normalizing the images by /255\n",
    "    train_images/255,\n",
    "    train_labels,\n",
    "    epochs=10,\n",
    "    validation_data=(test_images/255, test_labels)\n",
    ")\n"
   ]
  },
  {
   "cell_type": "code",
   "execution_count": 21,
   "metadata": {},
   "outputs": [
    {
     "name": "stdout",
     "output_type": "stream",
     "text": [
      "It's a airplane.\n"
     ]
    }
   ],
   "source": [
    "# start classifying\n",
    "def classify():\n",
    "    # the different classes\n",
    "    name = [\"airplane\", \"automobile\", \"bird\", \"cat\",\n",
    "            \"deer\", \"dog\", \"frog\", \"horse\", \"ship\", \"truck\"]\n",
    "    # getting the image path the user wants to classify\n",
    "    file_path = input(\"Enter the path for the image you want to classify:\")\n",
    "    img = image.load_img(file_path, target_size=(32, 32))\n",
    "    x = image.img_to_array(img)\n",
    "    x = np.expand_dims(x, axis=0)\n",
    "    images = np.vstack([x])\n",
    "    classes = model.predict(images, batch_size=20)\n",
    "    # print the result\n",
    "    print(\"It's a \"+name[np.argmax(classes[0])]+\".\")\n",
    "\n",
    "\n",
    "classify()\n"
   ]
  },
  {
   "cell_type": "code",
   "execution_count": 22,
   "metadata": {},
   "outputs": [
    {
     "data": {
      "image/png": "[encoded data removed]",
      "text/plain": [
       "<Figure size 432x288 with 1 Axes>"
      ]
     },
     "metadata": {
      "needs_background": "light"
     },
     "output_type": "display_data"
    },
    {
     "data": {
      "image/png": "[encoded data removed]",
      "text/plain": [
       "<Figure size 432x288 with 1 Axes>"
      ]
     },
     "metadata": {
      "needs_background": "light"
     },
     "output_type": "display_data"
    }
   ],
   "source": [
    "# drawing the graph\n",
    "def plot():\n",
    "    # getting the accuacy value\n",
    "    acc = history.history['acc']\n",
    "    val_acc = history.history['val_acc']\n",
    "    # getting the loss value\n",
    "    loss = history.history['loss']\n",
    "    val_loss = history.history['val_loss']\n",
    "\n",
    "    epochs = range(len(acc))\n",
    "    # plotting the graph\n",
    "    plt.plot(epochs, acc, label='training accuracy')\n",
    "    plt.plot(epochs, val_acc, label='validation accuracy')\n",
    "    plt.legend()\n",
    "    plt.title('Training and validation accuracy')\n",
    "\n",
    "    plt.figure()\n",
    "\n",
    "    plt.plot(epochs, loss, label='training loss')\n",
    "    plt.plot(epochs, val_loss, label='validation loss')\n",
    "    plt.legend()\n",
    "    plt.title('Training and validation loss')\n",
    "\n",
    "\n",
    "plot()\n"
   ]
  }
 ],
 "metadata": {
  "interpreter": {
   "hash": "5c0caea51777488cab3b1d6f4dd172e8f4fc74c408c7207234a266ceb8771740"
  },
  "kernelspec": {
   "display_name": "Python 3.9.9 64-bit",
   "language": "python",
   "name": "python3"
  },
  "language_info": {
   "codemirror_mode": {
    "name": "ipython",
    "version": 3
   },
   "file_extension": ".py",
   "mimetype": "text/x-python",
   "name": "python",
   "nbconvert_exporter": "python",
   "pygments_lexer": "ipython3",
   "version": "3.9.9"
  },
  "orig_nbformat": 4
 },
 "nbformat": 4,
 "nbformat_minor": 2
}
